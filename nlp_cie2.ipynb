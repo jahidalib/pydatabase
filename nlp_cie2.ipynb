{
 "cells": [
  {
   "cell_type": "markdown",
   "id": "66f8d967",
   "metadata": {},
   "source": [
    "N-grams are defined as the combination of N keywords together. Consider the given\n",
    "sentence:\n",
    "\n",
    "“Data Visualization is a way to express your data in a visual context so that patterns,\n",
    "\n",
    "correlations, trends between the data can be easily understood.”\n",
    "\n",
    "Generate bi-grams and tri-grams for the above sentence\n",
    "\n",
    "a. Before performing text cleaning steps.\n",
    "\n",
    "b. After performing following text cleaning steps:\n",
    "\n",
    "1. Stop word Removal\n",
    "\n",
    "2. Replacing punctuations by a single space\n"
   ]
  },
  {
   "cell_type": "code",
   "execution_count": 1,
   "id": "c894df08",
   "metadata": {},
   "outputs": [],
   "source": [
    "import nltk\n"
   ]
  },
  {
   "cell_type": "markdown",
   "id": "5201632d",
   "metadata": {},
   "source": [
    "# a"
   ]
  },
  {
   "cell_type": "code",
   "execution_count": 11,
   "id": "abb050b3",
   "metadata": {},
   "outputs": [
    {
     "name": "stdout",
     "output_type": "stream",
     "text": [
      "[(Data, Visualization), (Visualization, is), (is, a), (a, way), (way, to), (to, express), (express, your), (your, data), (data, in), (in, a), (a, visual), (visual, context), (context, so), (so, that), (that, patterns), (patterns, ,), (,, correlations), (correlations, ,), (,, trends), (trends, between), (between, the), (the, data), (data, can), (can, be), (be, easily), (easily, understood)]\n"
     ]
    }
   ],
   "source": [
    "import spacy\n",
    "from nltk import ngrams\n",
    "nlp=spacy.load(\"en_core_web_sm\")\n",
    "doc=nlp(\"Data Visualization is a way to express your data in a visual context so that patterns, correlations, trends between the data can be easily understood\")\n",
    "bigrams=ngrams(doc,2)\n",
    "print(list(bigrams))"
   ]
  },
  {
   "cell_type": "code",
   "execution_count": 38,
   "id": "85a5094b",
   "metadata": {},
   "outputs": [
    {
     "name": "stdout",
     "output_type": "stream",
     "text": [
      "[(Data, Visualization, is), (Visualization, is, a), (is, a, way), (a, way, to), (way, to, express), (to, express, your), (express, your, data), (your, data, in), (data, in, a), (in, a, visual), (a, visual, context), (visual, context, so), (context, so, that), (so, that, patterns), (that, patterns, ,), (patterns, ,, correlations), (,, correlations, ,), (correlations, ,, trends), (,, trends, between), (trends, between, the), (between, the, data), (the, data, can), (data, can, be), (can, be, easily), (be, easily, understood)]\n"
     ]
    }
   ],
   "source": [
    "import spacy\n",
    "from nltk import ngrams\n",
    "nlp=spacy.load(\"en_core_web_sm\")\n",
    "doc=nlp(\"Data Visualization is a way to express your data in a visual context so that patterns, correlations, trends between the data can be easily understood\")\n",
    "trigrams=ngrams(doc,3)\n",
    "print(list(trigrams))"
   ]
  },
  {
   "cell_type": "markdown",
   "id": "819d02b1",
   "metadata": {},
   "source": [
    "# b"
   ]
  },
  {
   "cell_type": "code",
   "execution_count": 39,
   "id": "0238eed2",
   "metadata": {},
   "outputs": [
    {
     "data": {
      "text/plain": [
       "'Data Visualization way express data visual context patterns correlations trends data easily understood'"
      ]
     },
     "execution_count": 39,
     "metadata": {},
     "output_type": "execute_result"
    }
   ],
   "source": [
    "import re\n",
    "stopwords=nlp.Defaults.stop_words\n",
    "doc=\"Data Visualization is a way to express your data in a visual context so that patterns, correlations, trends between the data can be easily understood\"\n",
    "punc_remove=re.sub(r'[^\\w\\s]','',doc)\n",
    "#punc_remove\n",
    "lst=[]\n",
    "for i in punc_remove.split():\n",
    "    if i.lower() not in stopwords:\n",
    "        lst.append(i)\n",
    "lst=' '.join(lst)\n",
    "lst"
   ]
  },
  {
   "cell_type": "code",
   "execution_count": 40,
   "id": "e3cf5f9e",
   "metadata": {},
   "outputs": [
    {
     "name": "stdout",
     "output_type": "stream",
     "text": [
      "[(Data, Visualization), (Visualization, way), (way, express), (express, data), (data, visual), (visual, context), (context, patterns), (patterns, correlations), (correlations, trends), (trends, data), (data, easily), (easily, understood)]\n"
     ]
    }
   ],
   "source": [
    "import spacy\n",
    "from nltk import ngrams\n",
    "nlp=spacy.load(\"en_core_web_sm\")\n",
    "doc=nlp(lst)\n",
    "bigrams=ngrams(doc,2)\n",
    "print(list(bigrams))"
   ]
  },
  {
   "cell_type": "code",
   "execution_count": 41,
   "id": "7bb01ffd",
   "metadata": {},
   "outputs": [
    {
     "name": "stdout",
     "output_type": "stream",
     "text": [
      "[(Data, Visualization, way), (Visualization, way, express), (way, express, data), (express, data, visual), (data, visual, context), (visual, context, patterns), (context, patterns, correlations), (patterns, correlations, trends), (correlations, trends, data), (trends, data, easily), (data, easily, understood)]\n"
     ]
    }
   ],
   "source": [
    "import spacy\n",
    "from nltk import ngrams\n",
    "nlp=spacy.load(\"en_core_web_sm\")\n",
    "doc=nlp(lst)\n",
    "trigrams=ngrams(doc,3)\n",
    "print(list(trigrams))"
   ]
  },
  {
   "cell_type": "code",
   "execution_count": null,
   "id": "885b12ee",
   "metadata": {},
   "outputs": [],
   "source": []
  }
 ],
 "metadata": {
  "kernelspec": {
   "display_name": "Python 3 (ipykernel)",
   "language": "python",
   "name": "python3"
  },
  "language_info": {
   "codemirror_mode": {
    "name": "ipython",
    "version": 3
   },
   "file_extension": ".py",
   "mimetype": "text/x-python",
   "name": "python",
   "nbconvert_exporter": "python",
   "pygments_lexer": "ipython3",
   "version": "3.9.12"
  }
 },
 "nbformat": 4,
 "nbformat_minor": 5
}
